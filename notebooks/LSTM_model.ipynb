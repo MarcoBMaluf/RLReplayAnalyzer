{
 "cells": [
  {
   "cell_type": "markdown",
   "metadata": {},
   "source": [
    "# <center> xG Calculator for Rocket League <center>"
   ]
  },
  {
   "cell_type": "markdown",
   "metadata": {},
   "source": [
    "## <center> Defining and Training the xG Model <center>"
   ]
  },
  {
   "cell_type": "markdown",
   "metadata": {},
   "source": [
    "### Importing Packages:"
   ]
  },
  {
   "cell_type": "code",
   "execution_count": 2,
   "metadata": {},
   "outputs": [],
   "source": [
    "import torch\n",
    "from torch.utils.data import DataLoader, random_split\n",
    "from torchvision.transforms import v2\n",
    "import matplotlib.pyplot as plt\n",
    "from tqdm import tqdm\n",
    "import torch\n",
    "import torch.nn as nn\n",
    "import torch.optim as optim\n",
    "from torcheval.metrics.functional import binary_accuracy"
   ]
  },
  {
   "cell_type": "markdown",
   "metadata": {},
   "source": [
    "### Model Construction:"
   ]
  },
  {
   "cell_type": "code",
   "execution_count": 3,
   "metadata": {},
   "outputs": [],
   "source": [
    "class xG_LSTM(nn.Module):\n",
    "    def __init__(self, input_dim=13, hidden_dim=128, output_dim=1, latent_dim=64, num_layers=3):\n",
    "        super(xG_LSTM, self).__init__()\n",
    "\n",
    "        self.input_dim = input_dim\n",
    "        self.hidden_dim = hidden_dim\n",
    "        self.output_dim = output_dim\n",
    "        self.latent_dim = latent_dim\n",
    "        self.num_layers = num_layers\n",
    "\n",
    "        self.lstm_layer = nn.LSTM(self.input_dim, self.hidden_dim, \n",
    "                                  self.num_layers, bidirectional=False, batch_first=True)\n",
    "        \n",
    "        self.fc_layer = nn.Sequential(\n",
    "            nn.Linear(self.hidden_dim, self.latent_dim),\n",
    "            nn.ReLU(),\n",
    "            nn.Dropout(p=0.2),\n",
    "            nn.Linear(self.latent_dim, self.output_dim)\n",
    "        )\n",
    "\n",
    "    def forward(self, x, hidden_states=None):\n",
    "        if hidden_states is None:\n",
    "            h_0 = torch.zeros(self.num_layers, x.size(0), self.hidden_dim)\n",
    "            c_0 = torch.zeros(self.num_layers, x.size(0), self.hidden_dim)\n",
    "            hidden_states = (h_0, c_0)\n",
    "\n",
    "        x, hidden_states = self.lstm_layer(x)\n",
    "        x = self.fc_layer(x[:, -1, :])\n",
    "\n",
    "        return x.squeeze(-1)"
   ]
  },
  {
   "cell_type": "markdown",
   "metadata": {},
   "source": [
    "### Dataset creation:"
   ]
  },
  {
   "cell_type": "code",
   "execution_count": 4,
   "metadata": {},
   "outputs": [
    {
     "name": "stderr",
     "output_type": "stream",
     "text": [
      "/var/folders/11/n8zkztqx4gz05487nfq4vl740000gn/T/ipykernel_54837/2128852830.py:1: FutureWarning: You are using `torch.load` with `weights_only=False` (the current default value), which uses the default pickle module implicitly. It is possible to construct malicious pickle data which will execute arbitrary code during unpickling (See https://github.com/pytorch/pytorch/blob/main/SECURITY.md#untrusted-models for more details). In a future release, the default value for `weights_only` will be flipped to `True`. This limits the functions that could be executed during unpickling. Arbitrary objects will no longer be allowed to be loaded via this mode unless they are explicitly allowlisted by the user via `torch.serialization.add_safe_globals`. We recommend you start setting `weights_only=True` for any use case where you don't have full control of the loaded file. Please open an issue on GitHub for any issues related to this experimental feature.\n",
      "  dataset = torch.load('/Users/marcomaluf/Desktop/Unfinished Projects/New RL/datasets/LSTM1_preprocessing/dataset.pt')\n"
     ]
    },
    {
     "data": {
      "text/plain": [
       "7722"
      ]
     },
     "execution_count": 4,
     "metadata": {},
     "output_type": "execute_result"
    }
   ],
   "source": [
    "dataset = torch.load('/Users/marcomaluf/Desktop/Unfinished Projects/New RL/datasets/LSTM1_preprocessing/dataset.pt')\n",
    "len(dataset)"
   ]
  },
  {
   "cell_type": "code",
   "execution_count": 5,
   "metadata": {},
   "outputs": [],
   "source": [
    "train_pkg_size = 6177\n",
    "train_set_size = 4632\n",
    "val_set_size = train_pkg_size - train_set_size\n",
    "test_set_size = 7722-train_pkg_size\n",
    "\n",
    "train_pkg, test_set = random_split(dataset, [train_pkg_size, test_set_size])\n",
    "train_set, val_set = random_split(train_pkg, [train_set_size, val_set_size])\n",
    "\n",
    "train_dataloader = DataLoader(train_set, batch_size=1024, shuffle=True, drop_last=False)\n",
    "val_dataloader = DataLoader(val_set, batch_size=512, shuffle=True, drop_last=False)\n",
    "test_dataloader = DataLoader(test_set, batch_size=256, shuffle=False, drop_last=False)"
   ]
  },
  {
   "cell_type": "markdown",
   "metadata": {},
   "source": [
    "### Setting hyperparameters and training/validation loops:"
   ]
  },
  {
   "cell_type": "code",
   "execution_count": 6,
   "metadata": {},
   "outputs": [],
   "source": [
    "device = 'mps' if torch.backends.mps.is_built() else 'cpu'\n",
    "model = xG_LSTM(hidden_dim=256).to(device)\n",
    "LOSS_FN = nn.BCEWithLogitsLoss()\n",
    "OPTIMIZER = optim.Adam(model.parameters(), lr=0.001)\n",
    "EPOCHS = 500\n",
    "PATIENCE = 10\n",
    "PATIENCE_COUNTER = 0\n",
    "MIN_DELTA = 0.00001\n",
    "BEST_VAL_LOSS = float('inf')\n",
    "\n",
    "def train_one_epoch(model, dataloader, loss_fn, optimizer):\n",
    "    model.train()\n",
    "    for batch_x, batch_y in tqdm(dataloader):\n",
    "        x, y = batch_x.to(device), batch_y.to(device)\n",
    "        logits = model(x)\n",
    "        loss = loss_fn(logits, y)\n",
    "        optimizer.zero_grad()\n",
    "        loss.backward()\n",
    "        optimizer.step()\n",
    "    \n",
    "    train_loss = loss.item()\n",
    "    return train_loss\n",
    "\n",
    "def evaluate(model, dataloader, loss_fn):\n",
    "    model.eval()\n",
    "    val_loss = 0\n",
    "    val_accuracy = 0\n",
    "\n",
    "    with torch.no_grad():\n",
    "        for batch_x, batch_y in tqdm(dataloader):\n",
    "            x, y = batch_x.to(device), batch_y.to(device)\n",
    "            logits = model(x)\n",
    "            val_loss += loss_fn(logits, y).item() * x.size()[0]\n",
    "            val_accuracy += binary_accuracy(logits.squeeze(), y.squeeze())\n",
    "\n",
    "    val_loss /= len(dataloader.dataset)\n",
    "    val_accuracy /= len(dataloader)\n",
    "\n",
    "    return val_loss, val_accuracy   "
   ]
  },
  {
   "cell_type": "markdown",
   "metadata": {},
   "source": [
    "### Training the model:"
   ]
  },
  {
   "cell_type": "code",
   "execution_count": 7,
   "metadata": {},
   "outputs": [
    {
     "name": "stdout",
     "output_type": "stream",
     "text": [
      "Epoch 1:\n"
     ]
    },
    {
     "name": "stderr",
     "output_type": "stream",
     "text": [
      "100%|██████████| 5/5 [00:12<00:00,  2.51s/it]\n",
      "100%|██████████| 4/4 [00:00<00:00,  8.07it/s]\n"
     ]
    },
    {
     "name": "stdout",
     "output_type": "stream",
     "text": [
      "Train Loss: 0.6767, Validation Loss: 0.6655, Validation Accuracy: 0.5076\n",
      "Epoch 2:\n"
     ]
    },
    {
     "name": "stderr",
     "output_type": "stream",
     "text": [
      "100%|██████████| 5/5 [00:03<00:00,  1.31it/s]\n",
      "100%|██████████| 4/4 [00:00<00:00,  6.19it/s]\n"
     ]
    },
    {
     "name": "stdout",
     "output_type": "stream",
     "text": [
      "Train Loss: 0.5242, Validation Loss: 0.5071, Validation Accuracy: 0.6902\n",
      "Epoch 3:\n"
     ]
    },
    {
     "name": "stderr",
     "output_type": "stream",
     "text": [
      "100%|██████████| 5/5 [00:02<00:00,  1.68it/s]\n",
      "100%|██████████| 4/4 [00:00<00:00, 13.52it/s]\n"
     ]
    },
    {
     "name": "stdout",
     "output_type": "stream",
     "text": [
      "Train Loss: 0.4286, Validation Loss: 0.3527, Validation Accuracy: 0.8882\n",
      "Epoch 4:\n"
     ]
    },
    {
     "name": "stderr",
     "output_type": "stream",
     "text": [
      "100%|██████████| 5/5 [00:05<00:00,  1.02s/it]\n",
      "100%|██████████| 4/4 [00:00<00:00, 15.32it/s]\n"
     ]
    },
    {
     "name": "stdout",
     "output_type": "stream",
     "text": [
      "Train Loss: 0.2974, Validation Loss: 0.2645, Validation Accuracy: 0.8887\n",
      "Epoch 5:\n"
     ]
    },
    {
     "name": "stderr",
     "output_type": "stream",
     "text": [
      "100%|██████████| 5/5 [00:02<00:00,  2.18it/s]\n",
      "100%|██████████| 4/4 [00:00<00:00, 11.68it/s]\n"
     ]
    },
    {
     "name": "stdout",
     "output_type": "stream",
     "text": [
      "Train Loss: 0.2026, Validation Loss: 0.1806, Validation Accuracy: 0.9536\n",
      "Epoch 6:\n"
     ]
    },
    {
     "name": "stderr",
     "output_type": "stream",
     "text": [
      "100%|██████████| 5/5 [00:03<00:00,  1.63it/s]\n",
      "100%|██████████| 4/4 [00:00<00:00, 10.41it/s]\n"
     ]
    },
    {
     "name": "stdout",
     "output_type": "stream",
     "text": [
      "Train Loss: 0.1551, Validation Loss: 0.1644, Validation Accuracy: 0.9141\n",
      "Epoch 7:\n"
     ]
    },
    {
     "name": "stderr",
     "output_type": "stream",
     "text": [
      "100%|██████████| 5/5 [00:03<00:00,  1.55it/s]\n",
      "100%|██████████| 4/4 [00:00<00:00,  9.11it/s]\n"
     ]
    },
    {
     "name": "stdout",
     "output_type": "stream",
     "text": [
      "Train Loss: 0.1229, Validation Loss: 0.0984, Validation Accuracy: 0.9717\n",
      "Epoch 8:\n"
     ]
    },
    {
     "name": "stderr",
     "output_type": "stream",
     "text": [
      "100%|██████████| 5/5 [00:03<00:00,  1.43it/s]\n",
      "100%|██████████| 4/4 [00:00<00:00, 10.97it/s]\n"
     ]
    },
    {
     "name": "stdout",
     "output_type": "stream",
     "text": [
      "Train Loss: 0.1080, Validation Loss: 0.0955, Validation Accuracy: 0.9400\n",
      "Epoch 9:\n"
     ]
    },
    {
     "name": "stderr",
     "output_type": "stream",
     "text": [
      "100%|██████████| 5/5 [00:02<00:00,  1.67it/s]\n",
      "100%|██████████| 4/4 [00:00<00:00, 12.67it/s]\n"
     ]
    },
    {
     "name": "stdout",
     "output_type": "stream",
     "text": [
      "Train Loss: 0.0939, Validation Loss: 0.0955, Validation Accuracy: 0.9419\n",
      "Epoch 10:\n"
     ]
    },
    {
     "name": "stderr",
     "output_type": "stream",
     "text": [
      "100%|██████████| 5/5 [00:02<00:00,  1.69it/s]\n",
      "100%|██████████| 4/4 [00:00<00:00, 10.98it/s]\n"
     ]
    },
    {
     "name": "stdout",
     "output_type": "stream",
     "text": [
      "Train Loss: 0.0841, Validation Loss: 0.0862, Validation Accuracy: 0.9795\n",
      "Epoch 11:\n"
     ]
    },
    {
     "name": "stderr",
     "output_type": "stream",
     "text": [
      "100%|██████████| 5/5 [00:03<00:00,  1.42it/s]\n",
      "100%|██████████| 4/4 [00:00<00:00, 10.29it/s]\n"
     ]
    },
    {
     "name": "stdout",
     "output_type": "stream",
     "text": [
      "Train Loss: 0.0459, Validation Loss: 0.0710, Validation Accuracy: 0.9810\n",
      "Epoch 12:\n"
     ]
    },
    {
     "name": "stderr",
     "output_type": "stream",
     "text": [
      "100%|██████████| 5/5 [00:02<00:00,  1.73it/s]\n",
      "100%|██████████| 4/4 [00:00<00:00, 13.17it/s]\n"
     ]
    },
    {
     "name": "stdout",
     "output_type": "stream",
     "text": [
      "Train Loss: 0.0716, Validation Loss: 0.0661, Validation Accuracy: 0.9551\n",
      "Epoch 13:\n"
     ]
    },
    {
     "name": "stderr",
     "output_type": "stream",
     "text": [
      "100%|██████████| 5/5 [00:03<00:00,  1.41it/s]\n",
      "100%|██████████| 4/4 [00:00<00:00, 14.23it/s]\n"
     ]
    },
    {
     "name": "stdout",
     "output_type": "stream",
     "text": [
      "Train Loss: 0.0405, Validation Loss: 0.0518, Validation Accuracy: 0.9854\n",
      "Epoch 14:\n"
     ]
    },
    {
     "name": "stderr",
     "output_type": "stream",
     "text": [
      "100%|██████████| 5/5 [00:03<00:00,  1.62it/s]\n",
      "100%|██████████| 4/4 [00:00<00:00, 13.17it/s]\n"
     ]
    },
    {
     "name": "stdout",
     "output_type": "stream",
     "text": [
      "Train Loss: 0.0234, Validation Loss: 0.0488, Validation Accuracy: 0.9858\n",
      "Epoch 15:\n"
     ]
    },
    {
     "name": "stderr",
     "output_type": "stream",
     "text": [
      "100%|██████████| 5/5 [00:02<00:00,  2.11it/s]\n",
      "100%|██████████| 4/4 [00:00<00:00, 11.84it/s]\n"
     ]
    },
    {
     "name": "stdout",
     "output_type": "stream",
     "text": [
      "Train Loss: 0.0296, Validation Loss: 0.0485, Validation Accuracy: 0.9868\n",
      "Epoch 16:\n"
     ]
    },
    {
     "name": "stderr",
     "output_type": "stream",
     "text": [
      "100%|██████████| 5/5 [00:02<00:00,  1.99it/s]\n",
      "100%|██████████| 4/4 [00:00<00:00, 13.01it/s]\n"
     ]
    },
    {
     "name": "stdout",
     "output_type": "stream",
     "text": [
      "Train Loss: 0.0305, Validation Loss: 0.0564, Validation Accuracy: 0.9595\n",
      "Epoch 17:\n"
     ]
    },
    {
     "name": "stderr",
     "output_type": "stream",
     "text": [
      "100%|██████████| 5/5 [00:02<00:00,  1.71it/s]\n",
      "100%|██████████| 4/4 [00:00<00:00, 13.71it/s]\n"
     ]
    },
    {
     "name": "stdout",
     "output_type": "stream",
     "text": [
      "Train Loss: 0.0239, Validation Loss: 0.0726, Validation Accuracy: 0.9824\n",
      "Epoch 18:\n"
     ]
    },
    {
     "name": "stderr",
     "output_type": "stream",
     "text": [
      "100%|██████████| 5/5 [00:02<00:00,  2.29it/s]\n",
      "100%|██████████| 4/4 [00:00<00:00, 13.08it/s]\n"
     ]
    },
    {
     "name": "stdout",
     "output_type": "stream",
     "text": [
      "Train Loss: 0.0365, Validation Loss: 0.0593, Validation Accuracy: 0.9854\n",
      "Epoch 19:\n"
     ]
    },
    {
     "name": "stderr",
     "output_type": "stream",
     "text": [
      "100%|██████████| 5/5 [00:01<00:00,  2.71it/s]\n",
      "100%|██████████| 4/4 [00:00<00:00, 13.85it/s]\n"
     ]
    },
    {
     "name": "stdout",
     "output_type": "stream",
     "text": [
      "Train Loss: 0.0429, Validation Loss: 0.0475, Validation Accuracy: 0.9902\n",
      "Epoch 20:\n"
     ]
    },
    {
     "name": "stderr",
     "output_type": "stream",
     "text": [
      "100%|██████████| 5/5 [00:02<00:00,  2.07it/s]\n",
      "100%|██████████| 4/4 [00:00<00:00, 14.67it/s]\n"
     ]
    },
    {
     "name": "stdout",
     "output_type": "stream",
     "text": [
      "Train Loss: 0.0505, Validation Loss: 0.0488, Validation Accuracy: 0.9873\n",
      "Epoch 21:\n"
     ]
    },
    {
     "name": "stderr",
     "output_type": "stream",
     "text": [
      "100%|██████████| 5/5 [00:02<00:00,  2.19it/s]\n",
      "100%|██████████| 4/4 [00:00<00:00, 13.54it/s]\n"
     ]
    },
    {
     "name": "stdout",
     "output_type": "stream",
     "text": [
      "Train Loss: 0.0324, Validation Loss: 0.0419, Validation Accuracy: 0.9883\n",
      "Epoch 22:\n"
     ]
    },
    {
     "name": "stderr",
     "output_type": "stream",
     "text": [
      "100%|██████████| 5/5 [00:02<00:00,  2.47it/s]\n",
      "100%|██████████| 4/4 [00:00<00:00, 16.80it/s]\n"
     ]
    },
    {
     "name": "stdout",
     "output_type": "stream",
     "text": [
      "Train Loss: 0.0600, Validation Loss: 0.0430, Validation Accuracy: 0.9878\n",
      "Epoch 23:\n"
     ]
    },
    {
     "name": "stderr",
     "output_type": "stream",
     "text": [
      "100%|██████████| 5/5 [00:01<00:00,  3.14it/s]\n",
      "100%|██████████| 4/4 [00:00<00:00, 16.83it/s]\n"
     ]
    },
    {
     "name": "stdout",
     "output_type": "stream",
     "text": [
      "Train Loss: 0.0265, Validation Loss: 0.0411, Validation Accuracy: 0.9629\n",
      "Epoch 24:\n"
     ]
    },
    {
     "name": "stderr",
     "output_type": "stream",
     "text": [
      "100%|██████████| 5/5 [00:02<00:00,  2.20it/s]\n",
      "100%|██████████| 4/4 [00:00<00:00, 13.86it/s]\n"
     ]
    },
    {
     "name": "stdout",
     "output_type": "stream",
     "text": [
      "Train Loss: 0.0349, Validation Loss: 0.0450, Validation Accuracy: 0.9620\n",
      "Epoch 25:\n"
     ]
    },
    {
     "name": "stderr",
     "output_type": "stream",
     "text": [
      "100%|██████████| 5/5 [00:01<00:00,  2.55it/s]\n",
      "100%|██████████| 4/4 [00:00<00:00, 15.51it/s]\n"
     ]
    },
    {
     "name": "stdout",
     "output_type": "stream",
     "text": [
      "Train Loss: 0.0235, Validation Loss: 0.0430, Validation Accuracy: 0.9893\n",
      "Epoch 26:\n"
     ]
    },
    {
     "name": "stderr",
     "output_type": "stream",
     "text": [
      "100%|██████████| 5/5 [00:01<00:00,  2.94it/s]\n",
      "100%|██████████| 4/4 [00:00<00:00, 14.59it/s]\n"
     ]
    },
    {
     "name": "stdout",
     "output_type": "stream",
     "text": [
      "Train Loss: 0.0165, Validation Loss: 0.0391, Validation Accuracy: 0.9907\n",
      "Epoch 27:\n"
     ]
    },
    {
     "name": "stderr",
     "output_type": "stream",
     "text": [
      "100%|██████████| 5/5 [00:02<00:00,  2.06it/s]\n",
      "100%|██████████| 4/4 [00:00<00:00, 14.09it/s]\n"
     ]
    },
    {
     "name": "stdout",
     "output_type": "stream",
     "text": [
      "Train Loss: 0.0292, Validation Loss: 0.0530, Validation Accuracy: 0.9858\n",
      "Epoch 28:\n"
     ]
    },
    {
     "name": "stderr",
     "output_type": "stream",
     "text": [
      "100%|██████████| 5/5 [00:02<00:00,  1.94it/s]\n",
      "100%|██████████| 4/4 [00:00<00:00, 11.92it/s]\n"
     ]
    },
    {
     "name": "stdout",
     "output_type": "stream",
     "text": [
      "Train Loss: 0.0454, Validation Loss: 0.0359, Validation Accuracy: 0.9912\n",
      "Epoch 29:\n"
     ]
    },
    {
     "name": "stderr",
     "output_type": "stream",
     "text": [
      "100%|██████████| 5/5 [00:03<00:00,  1.53it/s]\n",
      "100%|██████████| 4/4 [00:00<00:00, 10.38it/s]\n"
     ]
    },
    {
     "name": "stdout",
     "output_type": "stream",
     "text": [
      "Train Loss: 0.0227, Validation Loss: 0.0338, Validation Accuracy: 0.9917\n",
      "Epoch 30:\n"
     ]
    },
    {
     "name": "stderr",
     "output_type": "stream",
     "text": [
      "100%|██████████| 5/5 [00:02<00:00,  1.90it/s]\n",
      "100%|██████████| 4/4 [00:00<00:00, 13.23it/s]\n"
     ]
    },
    {
     "name": "stdout",
     "output_type": "stream",
     "text": [
      "Train Loss: 0.0227, Validation Loss: 0.0445, Validation Accuracy: 0.9893\n",
      "Epoch 31:\n"
     ]
    },
    {
     "name": "stderr",
     "output_type": "stream",
     "text": [
      "100%|██████████| 5/5 [00:02<00:00,  2.03it/s]\n",
      "100%|██████████| 4/4 [00:00<00:00, 13.74it/s]\n"
     ]
    },
    {
     "name": "stdout",
     "output_type": "stream",
     "text": [
      "Train Loss: 0.0392, Validation Loss: 0.0320, Validation Accuracy: 0.9946\n",
      "Epoch 32:\n"
     ]
    },
    {
     "name": "stderr",
     "output_type": "stream",
     "text": [
      "100%|██████████| 5/5 [00:02<00:00,  2.04it/s]\n",
      "100%|██████████| 4/4 [00:00<00:00, 13.76it/s]\n"
     ]
    },
    {
     "name": "stdout",
     "output_type": "stream",
     "text": [
      "Train Loss: 0.0170, Validation Loss: 0.0347, Validation Accuracy: 0.9932\n",
      "Epoch 33:\n"
     ]
    },
    {
     "name": "stderr",
     "output_type": "stream",
     "text": [
      "100%|██████████| 5/5 [00:02<00:00,  2.10it/s]\n",
      "100%|██████████| 4/4 [00:00<00:00, 13.82it/s]\n"
     ]
    },
    {
     "name": "stdout",
     "output_type": "stream",
     "text": [
      "Train Loss: 0.0165, Validation Loss: 0.0373, Validation Accuracy: 0.9912\n",
      "Epoch 34:\n"
     ]
    },
    {
     "name": "stderr",
     "output_type": "stream",
     "text": [
      "100%|██████████| 5/5 [00:02<00:00,  2.23it/s]\n",
      "100%|██████████| 4/4 [00:00<00:00, 14.26it/s]\n"
     ]
    },
    {
     "name": "stdout",
     "output_type": "stream",
     "text": [
      "Train Loss: 0.0360, Validation Loss: 0.0425, Validation Accuracy: 0.9927\n",
      "Epoch 35:\n"
     ]
    },
    {
     "name": "stderr",
     "output_type": "stream",
     "text": [
      "100%|██████████| 5/5 [00:02<00:00,  2.17it/s]\n",
      "100%|██████████| 4/4 [00:00<00:00, 13.83it/s]\n"
     ]
    },
    {
     "name": "stdout",
     "output_type": "stream",
     "text": [
      "Train Loss: 0.0273, Validation Loss: 0.0301, Validation Accuracy: 0.9951\n",
      "Epoch 36:\n"
     ]
    },
    {
     "name": "stderr",
     "output_type": "stream",
     "text": [
      "100%|██████████| 5/5 [00:02<00:00,  2.40it/s]\n",
      "100%|██████████| 4/4 [00:00<00:00, 15.84it/s]\n"
     ]
    },
    {
     "name": "stdout",
     "output_type": "stream",
     "text": [
      "Train Loss: 0.0224, Validation Loss: 0.0321, Validation Accuracy: 0.9937\n",
      "Epoch 37:\n"
     ]
    },
    {
     "name": "stderr",
     "output_type": "stream",
     "text": [
      "100%|██████████| 5/5 [00:01<00:00,  3.05it/s]\n",
      "100%|██████████| 4/4 [00:00<00:00, 14.22it/s]\n"
     ]
    },
    {
     "name": "stdout",
     "output_type": "stream",
     "text": [
      "Train Loss: 0.0192, Validation Loss: 0.0339, Validation Accuracy: 0.9902\n",
      "Epoch 38:\n"
     ]
    },
    {
     "name": "stderr",
     "output_type": "stream",
     "text": [
      "100%|██████████| 5/5 [00:01<00:00,  2.78it/s]\n",
      "100%|██████████| 4/4 [00:00<00:00, 12.66it/s]\n"
     ]
    },
    {
     "name": "stdout",
     "output_type": "stream",
     "text": [
      "Train Loss: 0.0104, Validation Loss: 0.0353, Validation Accuracy: 0.9927\n",
      "Epoch 39:\n"
     ]
    },
    {
     "name": "stderr",
     "output_type": "stream",
     "text": [
      "100%|██████████| 5/5 [00:02<00:00,  2.17it/s]\n",
      "100%|██████████| 4/4 [00:00<00:00, 13.70it/s]\n"
     ]
    },
    {
     "name": "stdout",
     "output_type": "stream",
     "text": [
      "Train Loss: 0.0222, Validation Loss: 0.0417, Validation Accuracy: 0.9888\n",
      "Epoch 40:\n"
     ]
    },
    {
     "name": "stderr",
     "output_type": "stream",
     "text": [
      "100%|██████████| 5/5 [00:02<00:00,  1.98it/s]\n",
      "100%|██████████| 4/4 [00:00<00:00, 13.39it/s]\n"
     ]
    },
    {
     "name": "stdout",
     "output_type": "stream",
     "text": [
      "Train Loss: 0.0274, Validation Loss: 0.0267, Validation Accuracy: 0.9956\n",
      "Epoch 41:\n"
     ]
    },
    {
     "name": "stderr",
     "output_type": "stream",
     "text": [
      "100%|██████████| 5/5 [00:02<00:00,  2.17it/s]\n",
      "100%|██████████| 4/4 [00:00<00:00, 12.75it/s]\n"
     ]
    },
    {
     "name": "stdout",
     "output_type": "stream",
     "text": [
      "Train Loss: 0.0067, Validation Loss: 0.0293, Validation Accuracy: 0.9946\n",
      "Epoch 42:\n"
     ]
    },
    {
     "name": "stderr",
     "output_type": "stream",
     "text": [
      "100%|██████████| 5/5 [00:02<00:00,  1.98it/s]\n",
      "100%|██████████| 4/4 [00:00<00:00, 13.57it/s]\n"
     ]
    },
    {
     "name": "stdout",
     "output_type": "stream",
     "text": [
      "Train Loss: 0.0218, Validation Loss: 0.0338, Validation Accuracy: 0.9956\n",
      "Epoch 43:\n"
     ]
    },
    {
     "name": "stderr",
     "output_type": "stream",
     "text": [
      "100%|██████████| 5/5 [00:02<00:00,  2.09it/s]\n",
      "100%|██████████| 4/4 [00:00<00:00, 15.96it/s]\n"
     ]
    },
    {
     "name": "stdout",
     "output_type": "stream",
     "text": [
      "Train Loss: 0.0173, Validation Loss: 0.0306, Validation Accuracy: 0.9951\n",
      "Epoch 44:\n"
     ]
    },
    {
     "name": "stderr",
     "output_type": "stream",
     "text": [
      "100%|██████████| 5/5 [00:02<00:00,  2.43it/s]\n",
      "100%|██████████| 4/4 [00:00<00:00, 13.34it/s]\n"
     ]
    },
    {
     "name": "stdout",
     "output_type": "stream",
     "text": [
      "Train Loss: 0.0065, Validation Loss: 0.0314, Validation Accuracy: 0.9673\n",
      "Epoch 45:\n"
     ]
    },
    {
     "name": "stderr",
     "output_type": "stream",
     "text": [
      "100%|██████████| 5/5 [00:02<00:00,  2.35it/s]\n",
      "100%|██████████| 4/4 [00:00<00:00, 13.78it/s]\n"
     ]
    },
    {
     "name": "stdout",
     "output_type": "stream",
     "text": [
      "Train Loss: 0.0162, Validation Loss: 0.0323, Validation Accuracy: 0.9946\n",
      "Epoch 46:\n"
     ]
    },
    {
     "name": "stderr",
     "output_type": "stream",
     "text": [
      "100%|██████████| 5/5 [00:01<00:00,  2.51it/s]\n",
      "100%|██████████| 4/4 [00:00<00:00, 16.76it/s]\n"
     ]
    },
    {
     "name": "stdout",
     "output_type": "stream",
     "text": [
      "Train Loss: 0.0229, Validation Loss: 0.0360, Validation Accuracy: 0.9932\n",
      "Epoch 47:\n"
     ]
    },
    {
     "name": "stderr",
     "output_type": "stream",
     "text": [
      "100%|██████████| 5/5 [00:01<00:00,  3.02it/s]\n",
      "100%|██████████| 4/4 [00:00<00:00, 14.54it/s]\n"
     ]
    },
    {
     "name": "stdout",
     "output_type": "stream",
     "text": [
      "Train Loss: 0.0072, Validation Loss: 0.0488, Validation Accuracy: 0.9932\n",
      "Epoch 48:\n"
     ]
    },
    {
     "name": "stderr",
     "output_type": "stream",
     "text": [
      "100%|██████████| 5/5 [00:02<00:00,  2.40it/s]\n",
      "100%|██████████| 4/4 [00:00<00:00, 13.75it/s]\n"
     ]
    },
    {
     "name": "stdout",
     "output_type": "stream",
     "text": [
      "Train Loss: 0.0149, Validation Loss: 0.0327, Validation Accuracy: 0.9932\n",
      "Epoch 49:\n"
     ]
    },
    {
     "name": "stderr",
     "output_type": "stream",
     "text": [
      "100%|██████████| 5/5 [00:02<00:00,  2.39it/s]\n",
      "100%|██████████| 4/4 [00:00<00:00, 16.86it/s]\n"
     ]
    },
    {
     "name": "stdout",
     "output_type": "stream",
     "text": [
      "Train Loss: 0.0100, Validation Loss: 0.0371, Validation Accuracy: 0.9932\n",
      "Epoch 50:\n"
     ]
    },
    {
     "name": "stderr",
     "output_type": "stream",
     "text": [
      "100%|██████████| 5/5 [00:01<00:00,  2.99it/s]\n",
      "100%|██████████| 4/4 [00:00<00:00, 17.43it/s]"
     ]
    },
    {
     "name": "stdout",
     "output_type": "stream",
     "text": [
      "Train Loss: 0.0073, Validation Loss: 0.0366, Validation Accuracy: 0.9654\n",
      "Early stopping triggered.\n"
     ]
    },
    {
     "name": "stderr",
     "output_type": "stream",
     "text": [
      "\n"
     ]
    }
   ],
   "source": [
    "train_losses = []\n",
    "val_losses = []\n",
    "val_accuracies = []\n",
    "\n",
    "for epoch in range(1, EPOCHS+1):\n",
    "    print(f'Epoch {epoch}:')\n",
    "    train_loss = train_one_epoch(model, train_dataloader, LOSS_FN, OPTIMIZER)\n",
    "    train_losses.append(train_loss)\n",
    "\n",
    "    validation_loss, validation_acc = evaluate(model, val_dataloader, LOSS_FN)\n",
    "    val_losses.append(validation_loss)\n",
    "    val_accuracies.append(validation_acc)\n",
    "\n",
    "    print(f\"Train Loss: {train_losses[-1]:.4f}, Validation Loss: {validation_loss:.4f}, Validation Accuracy: {validation_acc:.4f}\")\n",
    "\n",
    "    if validation_loss + MIN_DELTA < BEST_VAL_LOSS:\n",
    "        BEST_VAL_LOSS = validation_loss\n",
    "        PATIENCE_COUNTER = 0\n",
    "    else:\n",
    "        PATIENCE_COUNTER += 1\n",
    "        if PATIENCE_COUNTER >= PATIENCE:\n",
    "            print(\"Early stopping triggered.\")\n",
    "            break"
   ]
  },
  {
   "cell_type": "code",
   "execution_count": 9,
   "metadata": {},
   "outputs": [
    {
     "data": {
      "image/png": "[encoded data removed]",
      "text/plain": [
       "<Figure size 800x600 with 1 Axes>"
      ]
     },
     "metadata": {},
     "output_type": "display_data"
    }
   ],
   "source": [
    "epochs = [i for i in range(1,51)]\n",
    "val_accuracies = [a.cpu() for a in val_accuracies]\n",
    "\n",
    "fig, ax = plt.subplots(1, 1, figsize=(8, 6))\n",
    "\n",
    "ax.plot(epochs, train_losses, 'o--b', label='Training Loss')\n",
    "ax.plot(epochs, val_losses, 'o--r', label='Validation Loss')\n",
    "ax.plot(epochs, val_accuracies, 'o--g', label='Validation Accuracy')\n",
    "ax.set_title('Losses and Accuracy by Epoch')\n",
    "ax.set_xlabel('Epochs')\n",
    "ax.legend()\n",
    "\n",
    "\n",
    "plt.suptitle('Losses and Accuracies for Each Epoch of Training', fontsize=16)\n",
    "plt.tight_layout(rect=[0, 0, 1, 0.95])\n",
    "plt.show()"
   ]
  },
  {
   "cell_type": "code",
   "execution_count": 10,
   "metadata": {},
   "outputs": [
    {
     "name": "stderr",
     "output_type": "stream",
     "text": [
      "100%|██████████| 7/7 [00:00<00:00,  7.68it/s]"
     ]
    },
    {
     "name": "stdout",
     "output_type": "stream",
     "text": [
      "Test Loss: 0.03866859000320015 | Test Accuracy: 0.9877232313156128\n"
     ]
    },
    {
     "name": "stderr",
     "output_type": "stream",
     "text": [
      "\n"
     ]
    }
   ],
   "source": [
    "test_loss, test_accuracy = evaluate(model, test_dataloader, LOSS_FN)\n",
    "print(f'Test Loss: {test_loss} | Test Accuracy: {test_accuracy}')"
   ]
  },
  {
   "cell_type": "code",
   "execution_count": 11,
   "metadata": {},
   "outputs": [
    {
     "name": "stderr",
     "output_type": "stream",
     "text": [
      "python(54910) MallocStackLogging: can't turn off malloc stack logging because it was not enabled.\n"
     ]
    },
    {
     "data": {
      "image/png": "[encoded data removed]",
      "text/plain": [
       "<Figure size 500x400 with 2 Axes>"
      ]
     },
     "metadata": {},
     "output_type": "display_data"
    },
    {
     "data": {
      "text/plain": [
       "array([[792,   9],\n",
       "       [ 13, 731]])"
      ]
     },
     "execution_count": 11,
     "metadata": {},
     "output_type": "execute_result"
    }
   ],
   "source": [
    "import seaborn as sns\n",
    "from sklearn.metrics import confusion_matrix\n",
    "\n",
    "def evaluate_confusion_matrix(model, dataloader, threshold=0.5):\n",
    "    model.eval()  # Set model to evaluation mode\n",
    "    all_preds = []\n",
    "    all_labels = []\n",
    "\n",
    "    with torch.no_grad():\n",
    "        for x_batch, y_batch in dataloader:\n",
    "            x_batch = x_batch.to(device)\n",
    "            logits = model(x_batch)  # Get raw logits\n",
    "            probs = torch.sigmoid(logits)  # Convert logits to probabilities\n",
    "            preds = (probs >= threshold).int()  # Convert probabilities to 0 or 1\n",
    "            all_preds.extend(preds.cpu().numpy().flatten())  # Store predictions\n",
    "            all_labels.extend(y_batch.cpu().numpy().flatten())  # Store true labels\n",
    "\n",
    "    # Compute confusion matrix\n",
    "    cm = confusion_matrix(all_labels, all_preds)\n",
    "    \n",
    "    # Plot confusion matrix\n",
    "    plt.figure(figsize=(5, 4))\n",
    "    sns.heatmap(cm, annot=True, fmt=\"d\", cmap=\"Blues\", xticklabels=[\"Negative\", \"Positive\"], yticklabels=[\"Negative\", \"Positive\"])\n",
    "    plt.xlabel(\"Predicted Label\")\n",
    "    plt.ylabel(\"True Label\")\n",
    "    plt.title(\"Confusion Matrix\")\n",
    "    plt.show()\n",
    "\n",
    "    return cm\n",
    "\n",
    "# Call function with your test dataloader\n",
    "evaluate_confusion_matrix(model, test_dataloader)\n"
   ]
  },
  {
   "cell_type": "markdown",
   "metadata": {},
   "source": [
    "## Different model"
   ]
  },
  {
   "cell_type": "code",
   "execution_count": 12,
   "metadata": {},
   "outputs": [
    {
     "name": "stdout",
     "output_type": "stream",
     "text": [
      "Epoch 1:\n"
     ]
    },
    {
     "name": "stderr",
     "output_type": "stream",
     "text": [
      "100%|██████████| 5/5 [00:03<00:00,  1.34it/s]\n",
      "100%|██████████| 4/4 [00:00<00:00, 13.19it/s]\n"
     ]
    },
    {
     "name": "stdout",
     "output_type": "stream",
     "text": [
      "Train Loss: 0.6873, Validation Loss: 0.6754, Validation Accuracy: 0.5895\n",
      "Epoch 2:\n"
     ]
    },
    {
     "name": "stderr",
     "output_type": "stream",
     "text": [
      "100%|██████████| 5/5 [00:01<00:00,  2.73it/s]\n",
      "100%|██████████| 4/4 [00:00<00:00, 16.65it/s]\n"
     ]
    },
    {
     "name": "stdout",
     "output_type": "stream",
     "text": [
      "Train Loss: 0.5201, Validation Loss: 0.5145, Validation Accuracy: 0.5617\n",
      "Epoch 3:\n"
     ]
    },
    {
     "name": "stderr",
     "output_type": "stream",
     "text": [
      "100%|██████████| 5/5 [00:01<00:00,  2.93it/s]\n",
      "100%|██████████| 4/4 [00:00<00:00, 14.07it/s]\n"
     ]
    },
    {
     "name": "stdout",
     "output_type": "stream",
     "text": [
      "Train Loss: 0.3199, Validation Loss: 0.3071, Validation Accuracy: 0.7854\n",
      "Epoch 4:\n"
     ]
    },
    {
     "name": "stderr",
     "output_type": "stream",
     "text": [
      "100%|██████████| 5/5 [00:01<00:00,  2.56it/s]\n",
      "100%|██████████| 4/4 [00:00<00:00, 15.37it/s]\n"
     ]
    },
    {
     "name": "stdout",
     "output_type": "stream",
     "text": [
      "Train Loss: 0.2413, Validation Loss: 0.2408, Validation Accuracy: 0.9000\n",
      "Epoch 5:\n"
     ]
    },
    {
     "name": "stderr",
     "output_type": "stream",
     "text": [
      "100%|██████████| 5/5 [00:01<00:00,  3.02it/s]\n",
      "100%|██████████| 4/4 [00:00<00:00, 17.46it/s]\n"
     ]
    },
    {
     "name": "stdout",
     "output_type": "stream",
     "text": [
      "Train Loss: 0.1640, Validation Loss: 0.1677, Validation Accuracy: 0.9288\n",
      "Epoch 6:\n"
     ]
    },
    {
     "name": "stderr",
     "output_type": "stream",
     "text": [
      "100%|██████████| 5/5 [00:01<00:00,  2.98it/s]\n",
      "100%|██████████| 4/4 [00:00<00:00, 15.07it/s]\n"
     ]
    },
    {
     "name": "stdout",
     "output_type": "stream",
     "text": [
      "Train Loss: 0.1428, Validation Loss: 0.1271, Validation Accuracy: 0.9658\n",
      "Epoch 7:\n"
     ]
    },
    {
     "name": "stderr",
     "output_type": "stream",
     "text": [
      "100%|██████████| 5/5 [00:01<00:00,  2.55it/s]\n",
      "100%|██████████| 4/4 [00:00<00:00, 16.12it/s]\n"
     ]
    },
    {
     "name": "stdout",
     "output_type": "stream",
     "text": [
      "Train Loss: 0.1398, Validation Loss: 0.0903, Validation Accuracy: 0.9775\n",
      "Epoch 8:\n"
     ]
    },
    {
     "name": "stderr",
     "output_type": "stream",
     "text": [
      "100%|██████████| 5/5 [00:01<00:00,  2.78it/s]\n",
      "100%|██████████| 4/4 [00:00<00:00, 14.16it/s]\n"
     ]
    },
    {
     "name": "stdout",
     "output_type": "stream",
     "text": [
      "Train Loss: 0.0865, Validation Loss: 0.0957, Validation Accuracy: 0.9683\n",
      "Epoch 9:\n"
     ]
    },
    {
     "name": "stderr",
     "output_type": "stream",
     "text": [
      "100%|██████████| 5/5 [00:02<00:00,  2.36it/s]\n",
      "100%|██████████| 4/4 [00:00<00:00, 16.98it/s]\n"
     ]
    },
    {
     "name": "stdout",
     "output_type": "stream",
     "text": [
      "Train Loss: 0.0640, Validation Loss: 0.0741, Validation Accuracy: 0.9790\n",
      "Epoch 10:\n"
     ]
    },
    {
     "name": "stderr",
     "output_type": "stream",
     "text": [
      "100%|██████████| 5/5 [00:01<00:00,  3.14it/s]\n",
      "100%|██████████| 4/4 [00:00<00:00, 17.77it/s]\n"
     ]
    },
    {
     "name": "stdout",
     "output_type": "stream",
     "text": [
      "Train Loss: 0.0567, Validation Loss: 0.0676, Validation Accuracy: 0.9824\n",
      "Epoch 11:\n"
     ]
    },
    {
     "name": "stderr",
     "output_type": "stream",
     "text": [
      "100%|██████████| 5/5 [00:01<00:00,  3.09it/s]\n",
      "100%|██████████| 4/4 [00:00<00:00, 17.64it/s]\n"
     ]
    },
    {
     "name": "stdout",
     "output_type": "stream",
     "text": [
      "Train Loss: 0.0789, Validation Loss: 0.0626, Validation Accuracy: 0.9819\n",
      "Epoch 12:\n"
     ]
    },
    {
     "name": "stderr",
     "output_type": "stream",
     "text": [
      "100%|██████████| 5/5 [00:01<00:00,  3.12it/s]\n",
      "100%|██████████| 4/4 [00:00<00:00, 17.33it/s]\n"
     ]
    },
    {
     "name": "stdout",
     "output_type": "stream",
     "text": [
      "Train Loss: 0.0442, Validation Loss: 0.0533, Validation Accuracy: 0.9844\n",
      "Epoch 13:\n"
     ]
    },
    {
     "name": "stderr",
     "output_type": "stream",
     "text": [
      "100%|██████████| 5/5 [00:01<00:00,  2.95it/s]\n",
      "100%|██████████| 4/4 [00:00<00:00, 14.64it/s]\n"
     ]
    },
    {
     "name": "stdout",
     "output_type": "stream",
     "text": [
      "Train Loss: 0.0452, Validation Loss: 0.0528, Validation Accuracy: 0.9839\n",
      "Epoch 14:\n"
     ]
    },
    {
     "name": "stderr",
     "output_type": "stream",
     "text": [
      "100%|██████████| 5/5 [00:01<00:00,  2.99it/s]\n",
      "100%|██████████| 4/4 [00:00<00:00, 16.93it/s]\n"
     ]
    },
    {
     "name": "stdout",
     "output_type": "stream",
     "text": [
      "Train Loss: 0.0865, Validation Loss: 0.0560, Validation Accuracy: 0.9605\n",
      "Epoch 15:\n"
     ]
    },
    {
     "name": "stderr",
     "output_type": "stream",
     "text": [
      "100%|██████████| 5/5 [00:01<00:00,  3.04it/s]\n",
      "100%|██████████| 4/4 [00:00<00:00, 16.57it/s]\n"
     ]
    },
    {
     "name": "stdout",
     "output_type": "stream",
     "text": [
      "Train Loss: 0.0748, Validation Loss: 0.0436, Validation Accuracy: 0.9893\n",
      "Epoch 16:\n"
     ]
    },
    {
     "name": "stderr",
     "output_type": "stream",
     "text": [
      "100%|██████████| 5/5 [00:01<00:00,  3.02it/s]\n",
      "100%|██████████| 4/4 [00:00<00:00, 14.73it/s]\n"
     ]
    },
    {
     "name": "stdout",
     "output_type": "stream",
     "text": [
      "Train Loss: 0.0468, Validation Loss: 0.0609, Validation Accuracy: 0.9834\n",
      "Epoch 17:\n"
     ]
    },
    {
     "name": "stderr",
     "output_type": "stream",
     "text": [
      "100%|██████████| 5/5 [00:01<00:00,  2.84it/s]\n",
      "100%|██████████| 4/4 [00:00<00:00, 16.92it/s]\n"
     ]
    },
    {
     "name": "stdout",
     "output_type": "stream",
     "text": [
      "Train Loss: 0.0838, Validation Loss: 0.0449, Validation Accuracy: 0.9863\n",
      "Epoch 18:\n"
     ]
    },
    {
     "name": "stderr",
     "output_type": "stream",
     "text": [
      "100%|██████████| 5/5 [00:02<00:00,  2.03it/s]\n",
      "100%|██████████| 4/4 [00:00<00:00, 14.87it/s]\n"
     ]
    },
    {
     "name": "stdout",
     "output_type": "stream",
     "text": [
      "Train Loss: 0.0541, Validation Loss: 0.0446, Validation Accuracy: 0.9878\n",
      "Epoch 19:\n"
     ]
    },
    {
     "name": "stderr",
     "output_type": "stream",
     "text": [
      "100%|██████████| 5/5 [00:01<00:00,  2.95it/s]\n",
      "100%|██████████| 4/4 [00:00<00:00, 16.66it/s]\n"
     ]
    },
    {
     "name": "stdout",
     "output_type": "stream",
     "text": [
      "Train Loss: 0.0255, Validation Loss: 0.0416, Validation Accuracy: 0.9625\n",
      "Epoch 20:\n"
     ]
    },
    {
     "name": "stderr",
     "output_type": "stream",
     "text": [
      "100%|██████████| 5/5 [00:01<00:00,  3.09it/s]\n",
      "100%|██████████| 4/4 [00:00<00:00, 16.81it/s]\n"
     ]
    },
    {
     "name": "stdout",
     "output_type": "stream",
     "text": [
      "Train Loss: 0.0182, Validation Loss: 0.0470, Validation Accuracy: 0.9888\n",
      "Epoch 21:\n"
     ]
    },
    {
     "name": "stderr",
     "output_type": "stream",
     "text": [
      "100%|██████████| 5/5 [00:01<00:00,  2.96it/s]\n",
      "100%|██████████| 4/4 [00:00<00:00, 17.26it/s]\n"
     ]
    },
    {
     "name": "stdout",
     "output_type": "stream",
     "text": [
      "Train Loss: 0.0364, Validation Loss: 0.0404, Validation Accuracy: 0.9629\n",
      "Epoch 22:\n"
     ]
    },
    {
     "name": "stderr",
     "output_type": "stream",
     "text": [
      "100%|██████████| 5/5 [00:01<00:00,  2.95it/s]\n",
      "100%|██████████| 4/4 [00:00<00:00, 14.36it/s]\n"
     ]
    },
    {
     "name": "stdout",
     "output_type": "stream",
     "text": [
      "Train Loss: 0.0239, Validation Loss: 0.0381, Validation Accuracy: 0.9912\n",
      "Epoch 23:\n"
     ]
    },
    {
     "name": "stderr",
     "output_type": "stream",
     "text": [
      "100%|██████████| 5/5 [00:01<00:00,  2.52it/s]\n",
      "100%|██████████| 4/4 [00:00<00:00, 16.55it/s]\n"
     ]
    },
    {
     "name": "stdout",
     "output_type": "stream",
     "text": [
      "Train Loss: 0.0271, Validation Loss: 0.0376, Validation Accuracy: 0.9932\n",
      "Epoch 24:\n"
     ]
    },
    {
     "name": "stderr",
     "output_type": "stream",
     "text": [
      "100%|██████████| 5/5 [00:01<00:00,  3.01it/s]\n",
      "100%|██████████| 4/4 [00:00<00:00, 17.12it/s]\n"
     ]
    },
    {
     "name": "stdout",
     "output_type": "stream",
     "text": [
      "Train Loss: 0.0666, Validation Loss: 0.0357, Validation Accuracy: 0.9932\n",
      "Epoch 25:\n"
     ]
    },
    {
     "name": "stderr",
     "output_type": "stream",
     "text": [
      "100%|██████████| 5/5 [00:01<00:00,  3.00it/s]\n",
      "100%|██████████| 4/4 [00:00<00:00, 17.54it/s]\n"
     ]
    },
    {
     "name": "stdout",
     "output_type": "stream",
     "text": [
      "Train Loss: 0.0283, Validation Loss: 0.0374, Validation Accuracy: 0.9912\n",
      "Epoch 26:\n"
     ]
    },
    {
     "name": "stderr",
     "output_type": "stream",
     "text": [
      "100%|██████████| 5/5 [00:01<00:00,  3.03it/s]\n",
      "100%|██████████| 4/4 [00:00<00:00, 14.22it/s]\n"
     ]
    },
    {
     "name": "stdout",
     "output_type": "stream",
     "text": [
      "Train Loss: 0.0337, Validation Loss: 0.0349, Validation Accuracy: 0.9922\n",
      "Epoch 27:\n"
     ]
    },
    {
     "name": "stderr",
     "output_type": "stream",
     "text": [
      "100%|██████████| 5/5 [00:01<00:00,  2.88it/s]\n",
      "100%|██████████| 4/4 [00:00<00:00, 16.72it/s]\n"
     ]
    },
    {
     "name": "stdout",
     "output_type": "stream",
     "text": [
      "Train Loss: 0.0299, Validation Loss: 0.0373, Validation Accuracy: 0.9946\n",
      "Epoch 28:\n"
     ]
    },
    {
     "name": "stderr",
     "output_type": "stream",
     "text": [
      "100%|██████████| 5/5 [00:01<00:00,  3.11it/s]\n",
      "100%|██████████| 4/4 [00:00<00:00, 17.75it/s]\n"
     ]
    },
    {
     "name": "stdout",
     "output_type": "stream",
     "text": [
      "Train Loss: 0.0216, Validation Loss: 0.0397, Validation Accuracy: 0.9902\n",
      "Epoch 29:\n"
     ]
    },
    {
     "name": "stderr",
     "output_type": "stream",
     "text": [
      "100%|██████████| 5/5 [00:01<00:00,  3.14it/s]\n",
      "100%|██████████| 4/4 [00:00<00:00, 17.47it/s]\n"
     ]
    },
    {
     "name": "stdout",
     "output_type": "stream",
     "text": [
      "Train Loss: 0.0299, Validation Loss: 0.0322, Validation Accuracy: 0.9941\n",
      "Epoch 30:\n"
     ]
    },
    {
     "name": "stderr",
     "output_type": "stream",
     "text": [
      "100%|██████████| 5/5 [00:01<00:00,  3.09it/s]\n",
      "100%|██████████| 4/4 [00:00<00:00, 16.70it/s]\n"
     ]
    },
    {
     "name": "stdout",
     "output_type": "stream",
     "text": [
      "Train Loss: 0.0431, Validation Loss: 0.0326, Validation Accuracy: 0.9927\n",
      "Epoch 31:\n"
     ]
    },
    {
     "name": "stderr",
     "output_type": "stream",
     "text": [
      "100%|██████████| 5/5 [00:01<00:00,  2.98it/s]\n",
      "100%|██████████| 4/4 [00:00<00:00, 14.42it/s]\n"
     ]
    },
    {
     "name": "stdout",
     "output_type": "stream",
     "text": [
      "Train Loss: 0.0196, Validation Loss: 0.0370, Validation Accuracy: 0.9912\n",
      "Epoch 32:\n"
     ]
    },
    {
     "name": "stderr",
     "output_type": "stream",
     "text": [
      "100%|██████████| 5/5 [00:01<00:00,  2.97it/s]\n",
      "100%|██████████| 4/4 [00:00<00:00, 16.87it/s]\n"
     ]
    },
    {
     "name": "stdout",
     "output_type": "stream",
     "text": [
      "Train Loss: 0.0175, Validation Loss: 0.0345, Validation Accuracy: 0.9932\n",
      "Epoch 33:\n"
     ]
    },
    {
     "name": "stderr",
     "output_type": "stream",
     "text": [
      "100%|██████████| 5/5 [00:01<00:00,  3.13it/s]\n",
      "100%|██████████| 4/4 [00:00<00:00, 17.82it/s]\n"
     ]
    },
    {
     "name": "stdout",
     "output_type": "stream",
     "text": [
      "Train Loss: 0.0080, Validation Loss: 0.0318, Validation Accuracy: 0.9946\n",
      "Epoch 34:\n"
     ]
    },
    {
     "name": "stderr",
     "output_type": "stream",
     "text": [
      "100%|██████████| 5/5 [00:01<00:00,  3.08it/s]\n",
      "100%|██████████| 4/4 [00:00<00:00, 16.75it/s]\n"
     ]
    },
    {
     "name": "stdout",
     "output_type": "stream",
     "text": [
      "Train Loss: 0.0212, Validation Loss: 0.0343, Validation Accuracy: 0.9941\n",
      "Epoch 35:\n"
     ]
    },
    {
     "name": "stderr",
     "output_type": "stream",
     "text": [
      "100%|██████████| 5/5 [00:01<00:00,  3.00it/s]\n",
      "100%|██████████| 4/4 [00:00<00:00, 17.49it/s]\n"
     ]
    },
    {
     "name": "stdout",
     "output_type": "stream",
     "text": [
      "Train Loss: 0.0384, Validation Loss: 0.0325, Validation Accuracy: 0.9683\n",
      "Epoch 36:\n"
     ]
    },
    {
     "name": "stderr",
     "output_type": "stream",
     "text": [
      "100%|██████████| 5/5 [00:01<00:00,  2.99it/s]\n",
      "100%|██████████| 4/4 [00:00<00:00, 17.73it/s]\n"
     ]
    },
    {
     "name": "stdout",
     "output_type": "stream",
     "text": [
      "Train Loss: 0.0338, Validation Loss: 0.0338, Validation Accuracy: 0.9941\n",
      "Epoch 37:\n"
     ]
    },
    {
     "name": "stderr",
     "output_type": "stream",
     "text": [
      "100%|██████████| 5/5 [00:01<00:00,  2.96it/s]\n",
      "100%|██████████| 4/4 [00:00<00:00, 13.59it/s]\n"
     ]
    },
    {
     "name": "stdout",
     "output_type": "stream",
     "text": [
      "Train Loss: 0.0331, Validation Loss: 0.0400, Validation Accuracy: 0.9922\n",
      "Epoch 38:\n"
     ]
    },
    {
     "name": "stderr",
     "output_type": "stream",
     "text": [
      "100%|██████████| 5/5 [00:02<00:00,  2.32it/s]\n",
      "100%|██████████| 4/4 [00:00<00:00, 16.20it/s]\n"
     ]
    },
    {
     "name": "stdout",
     "output_type": "stream",
     "text": [
      "Train Loss: 0.0177, Validation Loss: 0.0428, Validation Accuracy: 0.9902\n",
      "Epoch 39:\n"
     ]
    },
    {
     "name": "stderr",
     "output_type": "stream",
     "text": [
      "100%|██████████| 5/5 [00:01<00:00,  2.73it/s]\n",
      "100%|██████████| 4/4 [00:00<00:00, 13.64it/s]\n"
     ]
    },
    {
     "name": "stdout",
     "output_type": "stream",
     "text": [
      "Train Loss: 0.0273, Validation Loss: 0.0297, Validation Accuracy: 0.9951\n",
      "Epoch 40:\n"
     ]
    },
    {
     "name": "stderr",
     "output_type": "stream",
     "text": [
      "100%|██████████| 5/5 [00:02<00:00,  2.33it/s]\n",
      "100%|██████████| 4/4 [00:00<00:00, 14.49it/s]\n"
     ]
    },
    {
     "name": "stdout",
     "output_type": "stream",
     "text": [
      "Train Loss: 0.0208, Validation Loss: 0.0337, Validation Accuracy: 0.9932\n",
      "Epoch 41:\n"
     ]
    },
    {
     "name": "stderr",
     "output_type": "stream",
     "text": [
      "100%|██████████| 5/5 [00:02<00:00,  2.33it/s]\n",
      "100%|██████████| 4/4 [00:00<00:00, 13.84it/s]\n"
     ]
    },
    {
     "name": "stdout",
     "output_type": "stream",
     "text": [
      "Train Loss: 0.0128, Validation Loss: 0.0339, Validation Accuracy: 0.9922\n",
      "Epoch 42:\n"
     ]
    },
    {
     "name": "stderr",
     "output_type": "stream",
     "text": [
      "100%|██████████| 5/5 [00:02<00:00,  2.22it/s]\n",
      "100%|██████████| 4/4 [00:00<00:00, 13.94it/s]\n"
     ]
    },
    {
     "name": "stdout",
     "output_type": "stream",
     "text": [
      "Train Loss: 0.0038, Validation Loss: 0.0389, Validation Accuracy: 0.9946\n",
      "Epoch 43:\n"
     ]
    },
    {
     "name": "stderr",
     "output_type": "stream",
     "text": [
      "100%|██████████| 5/5 [00:02<00:00,  2.25it/s]\n",
      "100%|██████████| 4/4 [00:00<00:00, 15.44it/s]\n"
     ]
    },
    {
     "name": "stdout",
     "output_type": "stream",
     "text": [
      "Train Loss: 0.0187, Validation Loss: 0.0377, Validation Accuracy: 0.9937\n",
      "Epoch 44:\n"
     ]
    },
    {
     "name": "stderr",
     "output_type": "stream",
     "text": [
      "100%|██████████| 5/5 [00:01<00:00,  2.79it/s]\n",
      "100%|██████████| 4/4 [00:00<00:00, 13.77it/s]\n"
     ]
    },
    {
     "name": "stdout",
     "output_type": "stream",
     "text": [
      "Train Loss: 0.0134, Validation Loss: 0.0335, Validation Accuracy: 0.9946\n",
      "Epoch 45:\n"
     ]
    },
    {
     "name": "stderr",
     "output_type": "stream",
     "text": [
      "100%|██████████| 5/5 [00:01<00:00,  2.53it/s]\n",
      "100%|██████████| 4/4 [00:00<00:00, 16.08it/s]\n"
     ]
    },
    {
     "name": "stdout",
     "output_type": "stream",
     "text": [
      "Train Loss: 0.0183, Validation Loss: 0.0398, Validation Accuracy: 0.9937\n",
      "Epoch 46:\n"
     ]
    },
    {
     "name": "stderr",
     "output_type": "stream",
     "text": [
      "100%|██████████| 5/5 [00:01<00:00,  2.93it/s]\n",
      "100%|██████████| 4/4 [00:00<00:00, 15.90it/s]\n"
     ]
    },
    {
     "name": "stdout",
     "output_type": "stream",
     "text": [
      "Train Loss: 0.0104, Validation Loss: 0.0321, Validation Accuracy: 0.9951\n",
      "Epoch 47:\n"
     ]
    },
    {
     "name": "stderr",
     "output_type": "stream",
     "text": [
      "100%|██████████| 5/5 [00:01<00:00,  2.90it/s]\n",
      "100%|██████████| 4/4 [00:00<00:00, 16.64it/s]\n"
     ]
    },
    {
     "name": "stdout",
     "output_type": "stream",
     "text": [
      "Train Loss: 0.0105, Validation Loss: 0.0371, Validation Accuracy: 0.9932\n",
      "Epoch 48:\n"
     ]
    },
    {
     "name": "stderr",
     "output_type": "stream",
     "text": [
      "100%|██████████| 5/5 [00:01<00:00,  2.83it/s]\n",
      "100%|██████████| 4/4 [00:00<00:00, 12.07it/s]\n"
     ]
    },
    {
     "name": "stdout",
     "output_type": "stream",
     "text": [
      "Train Loss: 0.0202, Validation Loss: 0.0421, Validation Accuracy: 0.9946\n",
      "Epoch 49:\n"
     ]
    },
    {
     "name": "stderr",
     "output_type": "stream",
     "text": [
      "100%|██████████| 5/5 [00:04<00:00,  1.23it/s]\n",
      "100%|██████████| 4/4 [00:00<00:00, 13.29it/s]"
     ]
    },
    {
     "name": "stdout",
     "output_type": "stream",
     "text": [
      "Train Loss: 0.0051, Validation Loss: 0.0439, Validation Accuracy: 0.9946\n",
      "Early stopping triggered.\n"
     ]
    },
    {
     "name": "stderr",
     "output_type": "stream",
     "text": [
      "\n"
     ]
    }
   ],
   "source": [
    "model3 = xG_LSTM(hidden_dim=256, latent_dim=256).to(device)\n",
    "LOSS_FN = nn.BCEWithLogitsLoss()\n",
    "OPTIMIZER = optim.Adam(model3.parameters(), lr=0.001)\n",
    "EPOCHS = 500\n",
    "PATIENCE = 10\n",
    "PATIENCE_COUNTER = 0\n",
    "MIN_DELTA = 0.00001\n",
    "BEST_VAL_LOSS = float('inf')\n",
    "\n",
    "train_losses3 = []\n",
    "val_losses3 = []\n",
    "val_accuracies3 = []\n",
    "\n",
    "for epoch in range(1, EPOCHS+1):\n",
    "    print(f'Epoch {epoch}:')\n",
    "    train_loss = train_one_epoch(model3, train_dataloader, LOSS_FN, OPTIMIZER)\n",
    "    train_losses3.append(train_loss)\n",
    "\n",
    "    validation_loss, validation_acc = evaluate(model3, val_dataloader, LOSS_FN)\n",
    "    val_losses3.append(validation_loss)\n",
    "    val_accuracies3.append(validation_acc)\n",
    "\n",
    "    print(f\"Train Loss: {train_loss:.4f}, Validation Loss: {validation_loss:.4f}, Validation Accuracy: {validation_acc:.4f}\")\n",
    "\n",
    "    if validation_loss + MIN_DELTA < BEST_VAL_LOSS:\n",
    "        BEST_VAL_LOSS = validation_loss\n",
    "        PATIENCE_COUNTER = 0\n",
    "    else:\n",
    "        PATIENCE_COUNTER += 1\n",
    "        if PATIENCE_COUNTER >= PATIENCE:\n",
    "            print(\"Early stopping triggered.\")\n",
    "            break"
   ]
  },
  {
   "cell_type": "code",
   "execution_count": 13,
   "metadata": {},
   "outputs": [
    {
     "data": {
      "image/png": "[encoded data removed]",
      "text/plain": [
       "<Figure size 800x600 with 1 Axes>"
      ]
     },
     "metadata": {},
     "output_type": "display_data"
    }
   ],
   "source": [
    "epochs = [i for i in range(1,50)]\n",
    "val_accuracies3 = [a.cpu() for a in val_accuracies3]\n",
    "\n",
    "fig, ax = plt.subplots(1, 1, figsize=(8, 6))\n",
    "\n",
    "ax.plot(epochs, train_losses3, 'o--b', label='Training Loss')\n",
    "ax.plot(epochs, val_losses3, 'o--r', label='Validation Loss')\n",
    "ax.plot(epochs, val_accuracies3, 'o--g', label='Validation Accuracy')\n",
    "ax.set_title('Losses and Accuracy by Epoch')\n",
    "ax.set_xlabel('Epochs')\n",
    "ax.legend()\n",
    "\n",
    "\n",
    "plt.suptitle('Losses and Accuracies for Each Epoch of Training', fontsize=16)\n",
    "plt.tight_layout(rect=[0, 0, 1, 0.95])\n",
    "plt.show()"
   ]
  },
  {
   "cell_type": "code",
   "execution_count": 14,
   "metadata": {},
   "outputs": [
    {
     "name": "stderr",
     "output_type": "stream",
     "text": [
      "100%|██████████| 7/7 [00:00<00:00, 22.62it/s]"
     ]
    },
    {
     "name": "stdout",
     "output_type": "stream",
     "text": [
      "Test Loss: 0.03408273502318597 | Test Accuracy: 0.9938616156578064\n"
     ]
    },
    {
     "name": "stderr",
     "output_type": "stream",
     "text": [
      "\n"
     ]
    }
   ],
   "source": [
    "test_loss, test_accuracy = evaluate(model3, test_dataloader, LOSS_FN)\n",
    "print(f'Test Loss: {test_loss} | Test Accuracy: {test_accuracy}')"
   ]
  },
  {
   "cell_type": "code",
   "execution_count": 15,
   "metadata": {},
   "outputs": [
    {
     "data": {
      "image/png": "[encoded data removed]",
      "text/plain": [
       "<Figure size 500x400 with 2 Axes>"
      ]
     },
     "metadata": {},
     "output_type": "display_data"
    },
    {
     "data": {
      "text/plain": [
       "array([[791,  10],\n",
       "       [  1, 743]])"
      ]
     },
     "execution_count": 15,
     "metadata": {},
     "output_type": "execute_result"
    }
   ],
   "source": [
    "evaluate_confusion_matrix(model3, test_dataloader)"
   ]
  },
  {
   "cell_type": "code",
   "execution_count": 16,
   "metadata": {},
   "outputs": [
    {
     "name": "stdout",
     "output_type": "stream",
     "text": [
      "Epoch 1:\n"
     ]
    },
    {
     "name": "stderr",
     "output_type": "stream",
     "text": [
      "100%|██████████| 5/5 [00:08<00:00,  1.63s/it]\n",
      "100%|██████████| 4/4 [00:00<00:00, 19.61it/s]\n"
     ]
    },
    {
     "name": "stdout",
     "output_type": "stream",
     "text": [
      "Train Loss: 0.6937, Validation Loss: 0.6930, Validation Accuracy: 0.5076\n",
      "Epoch 2:\n"
     ]
    },
    {
     "name": "stderr",
     "output_type": "stream",
     "text": [
      "100%|██████████| 5/5 [00:00<00:00, 12.90it/s]\n",
      "100%|██████████| 4/4 [00:00<00:00, 70.08it/s]\n"
     ]
    },
    {
     "name": "stdout",
     "output_type": "stream",
     "text": [
      "Train Loss: 0.6908, Validation Loss: 0.6890, Validation Accuracy: 0.5076\n",
      "Epoch 3:\n"
     ]
    },
    {
     "name": "stderr",
     "output_type": "stream",
     "text": [
      "100%|██████████| 5/5 [00:00<00:00, 17.93it/s]\n",
      "100%|██████████| 4/4 [00:00<00:00, 72.87it/s]\n"
     ]
    },
    {
     "name": "stdout",
     "output_type": "stream",
     "text": [
      "Train Loss: 0.6828, Validation Loss: 0.6783, Validation Accuracy: 0.5622\n",
      "Epoch 4:\n"
     ]
    },
    {
     "name": "stderr",
     "output_type": "stream",
     "text": [
      "100%|██████████| 5/5 [00:00<00:00, 16.72it/s]\n",
      "100%|██████████| 4/4 [00:00<00:00, 74.51it/s]\n"
     ]
    },
    {
     "name": "stdout",
     "output_type": "stream",
     "text": [
      "Train Loss: 0.6507, Validation Loss: 0.6433, Validation Accuracy: 0.5622\n",
      "Epoch 5:\n"
     ]
    },
    {
     "name": "stderr",
     "output_type": "stream",
     "text": [
      "100%|██████████| 5/5 [00:00<00:00, 16.40it/s]\n",
      "100%|██████████| 4/4 [00:00<00:00, 75.73it/s]\n"
     ]
    },
    {
     "name": "stdout",
     "output_type": "stream",
     "text": [
      "Train Loss: 0.5949, Validation Loss: 0.5748, Validation Accuracy: 0.5349\n",
      "Epoch 6:\n"
     ]
    },
    {
     "name": "stderr",
     "output_type": "stream",
     "text": [
      "100%|██████████| 5/5 [00:00<00:00, 17.24it/s]\n",
      "100%|██████████| 4/4 [00:00<00:00, 71.87it/s]\n"
     ]
    },
    {
     "name": "stdout",
     "output_type": "stream",
     "text": [
      "Train Loss: 0.5228, Validation Loss: 0.5042, Validation Accuracy: 0.8145\n",
      "Epoch 7:\n"
     ]
    },
    {
     "name": "stderr",
     "output_type": "stream",
     "text": [
      "100%|██████████| 5/5 [00:00<00:00, 17.72it/s]\n",
      "100%|██████████| 4/4 [00:00<00:00, 75.52it/s]\n"
     ]
    },
    {
     "name": "stdout",
     "output_type": "stream",
     "text": [
      "Train Loss: 0.4322, Validation Loss: 0.4103, Validation Accuracy: 0.8691\n",
      "Epoch 8:\n"
     ]
    },
    {
     "name": "stderr",
     "output_type": "stream",
     "text": [
      "100%|██████████| 5/5 [00:00<00:00, 17.80it/s]\n",
      "100%|██████████| 4/4 [00:00<00:00, 75.18it/s]\n"
     ]
    },
    {
     "name": "stdout",
     "output_type": "stream",
     "text": [
      "Train Loss: 0.3512, Validation Loss: 0.3487, Validation Accuracy: 0.8516\n",
      "Epoch 9:\n"
     ]
    },
    {
     "name": "stderr",
     "output_type": "stream",
     "text": [
      "100%|██████████| 5/5 [00:00<00:00, 17.31it/s]\n",
      "100%|██████████| 4/4 [00:00<00:00, 71.09it/s]\n"
     ]
    },
    {
     "name": "stdout",
     "output_type": "stream",
     "text": [
      "Train Loss: 0.2914, Validation Loss: 0.2633, Validation Accuracy: 0.9321\n",
      "Epoch 10:\n"
     ]
    },
    {
     "name": "stderr",
     "output_type": "stream",
     "text": [
      "100%|██████████| 5/5 [00:00<00:00, 17.31it/s]\n",
      "100%|██████████| 4/4 [00:00<00:00, 76.02it/s]\n"
     ]
    },
    {
     "name": "stdout",
     "output_type": "stream",
     "text": [
      "Train Loss: 0.2143, Validation Loss: 0.2099, Validation Accuracy: 0.9448\n",
      "Epoch 11:\n"
     ]
    },
    {
     "name": "stderr",
     "output_type": "stream",
     "text": [
      "100%|██████████| 5/5 [00:00<00:00, 16.75it/s]\n",
      "100%|██████████| 4/4 [00:00<00:00, 73.63it/s]\n"
     ]
    },
    {
     "name": "stdout",
     "output_type": "stream",
     "text": [
      "Train Loss: 0.1646, Validation Loss: 0.1652, Validation Accuracy: 0.9526\n",
      "Epoch 12:\n"
     ]
    },
    {
     "name": "stderr",
     "output_type": "stream",
     "text": [
      "100%|██████████| 5/5 [00:00<00:00, 16.92it/s]\n",
      "100%|██████████| 4/4 [00:00<00:00, 74.30it/s]\n"
     ]
    },
    {
     "name": "stdout",
     "output_type": "stream",
     "text": [
      "Train Loss: 0.1235, Validation Loss: 0.1271, Validation Accuracy: 0.9380\n",
      "Epoch 13:\n"
     ]
    },
    {
     "name": "stderr",
     "output_type": "stream",
     "text": [
      "100%|██████████| 5/5 [00:00<00:00, 17.39it/s]\n",
      "100%|██████████| 4/4 [00:00<00:00, 75.56it/s]\n"
     ]
    },
    {
     "name": "stdout",
     "output_type": "stream",
     "text": [
      "Train Loss: 0.0896, Validation Loss: 0.1099, Validation Accuracy: 0.9648\n",
      "Epoch 14:\n"
     ]
    },
    {
     "name": "stderr",
     "output_type": "stream",
     "text": [
      "100%|██████████| 5/5 [00:00<00:00, 17.19it/s]\n",
      "100%|██████████| 4/4 [00:00<00:00, 65.00it/s]\n"
     ]
    },
    {
     "name": "stdout",
     "output_type": "stream",
     "text": [
      "Train Loss: 0.0818, Validation Loss: 0.0824, Validation Accuracy: 0.9483\n",
      "Epoch 15:\n"
     ]
    },
    {
     "name": "stderr",
     "output_type": "stream",
     "text": [
      "100%|██████████| 5/5 [00:00<00:00, 16.15it/s]\n",
      "100%|██████████| 4/4 [00:00<00:00, 72.71it/s]\n"
     ]
    },
    {
     "name": "stdout",
     "output_type": "stream",
     "text": [
      "Train Loss: 0.0815, Validation Loss: 0.0748, Validation Accuracy: 0.9215\n",
      "Epoch 16:\n"
     ]
    },
    {
     "name": "stderr",
     "output_type": "stream",
     "text": [
      "100%|██████████| 5/5 [00:00<00:00, 17.81it/s]\n",
      "100%|██████████| 4/4 [00:00<00:00, 77.73it/s]\n"
     ]
    },
    {
     "name": "stdout",
     "output_type": "stream",
     "text": [
      "Train Loss: 0.0584, Validation Loss: 0.1043, Validation Accuracy: 0.9604\n",
      "Epoch 17:\n"
     ]
    },
    {
     "name": "stderr",
     "output_type": "stream",
     "text": [
      "100%|██████████| 5/5 [00:00<00:00, 16.75it/s]\n",
      "100%|██████████| 4/4 [00:00<00:00, 67.16it/s]\n"
     ]
    },
    {
     "name": "stdout",
     "output_type": "stream",
     "text": [
      "Train Loss: 0.0475, Validation Loss: 0.0688, Validation Accuracy: 0.9819\n",
      "Epoch 18:\n"
     ]
    },
    {
     "name": "stderr",
     "output_type": "stream",
     "text": [
      "100%|██████████| 5/5 [00:00<00:00, 15.54it/s]\n",
      "100%|██████████| 4/4 [00:00<00:00, 70.76it/s]\n"
     ]
    },
    {
     "name": "stdout",
     "output_type": "stream",
     "text": [
      "Train Loss: 0.0623, Validation Loss: 0.0755, Validation Accuracy: 0.9829\n",
      "Epoch 19:\n"
     ]
    },
    {
     "name": "stderr",
     "output_type": "stream",
     "text": [
      "100%|██████████| 5/5 [00:00<00:00, 17.10it/s]\n",
      "100%|██████████| 4/4 [00:00<00:00, 60.23it/s]\n"
     ]
    },
    {
     "name": "stdout",
     "output_type": "stream",
     "text": [
      "Train Loss: 0.0714, Validation Loss: 0.0660, Validation Accuracy: 0.9810\n",
      "Epoch 20:\n"
     ]
    },
    {
     "name": "stderr",
     "output_type": "stream",
     "text": [
      "100%|██████████| 5/5 [00:00<00:00, 17.30it/s]\n",
      "100%|██████████| 4/4 [00:00<00:00, 64.23it/s]\n"
     ]
    },
    {
     "name": "stdout",
     "output_type": "stream",
     "text": [
      "Train Loss: 0.0761, Validation Loss: 0.0611, Validation Accuracy: 0.9839\n",
      "Epoch 21:\n"
     ]
    },
    {
     "name": "stderr",
     "output_type": "stream",
     "text": [
      "100%|██████████| 5/5 [00:00<00:00, 16.33it/s]\n",
      "100%|██████████| 4/4 [00:00<00:00, 65.79it/s]\n"
     ]
    },
    {
     "name": "stdout",
     "output_type": "stream",
     "text": [
      "Train Loss: 0.0658, Validation Loss: 0.0584, Validation Accuracy: 0.9829\n",
      "Epoch 22:\n"
     ]
    },
    {
     "name": "stderr",
     "output_type": "stream",
     "text": [
      "100%|██████████| 5/5 [00:00<00:00, 17.13it/s]\n",
      "100%|██████████| 4/4 [00:00<00:00, 62.90it/s]\n"
     ]
    },
    {
     "name": "stdout",
     "output_type": "stream",
     "text": [
      "Train Loss: 0.0410, Validation Loss: 0.0560, Validation Accuracy: 0.9844\n",
      "Epoch 23:\n"
     ]
    },
    {
     "name": "stderr",
     "output_type": "stream",
     "text": [
      "100%|██████████| 5/5 [00:00<00:00, 17.16it/s]\n",
      "100%|██████████| 4/4 [00:00<00:00, 76.64it/s]\n"
     ]
    },
    {
     "name": "stdout",
     "output_type": "stream",
     "text": [
      "Train Loss: 0.0611, Validation Loss: 0.0570, Validation Accuracy: 0.9863\n",
      "Epoch 24:\n"
     ]
    },
    {
     "name": "stderr",
     "output_type": "stream",
     "text": [
      "100%|██████████| 5/5 [00:00<00:00, 16.03it/s]\n",
      "100%|██████████| 4/4 [00:00<00:00, 74.82it/s]\n"
     ]
    },
    {
     "name": "stdout",
     "output_type": "stream",
     "text": [
      "Train Loss: 0.0428, Validation Loss: 0.0520, Validation Accuracy: 0.9849\n",
      "Epoch 25:\n"
     ]
    },
    {
     "name": "stderr",
     "output_type": "stream",
     "text": [
      "100%|██████████| 5/5 [00:00<00:00, 17.12it/s]\n",
      "100%|██████████| 4/4 [00:00<00:00, 77.26it/s]\n"
     ]
    },
    {
     "name": "stdout",
     "output_type": "stream",
     "text": [
      "Train Loss: 0.0535, Validation Loss: 0.0496, Validation Accuracy: 0.9863\n",
      "Epoch 26:\n"
     ]
    },
    {
     "name": "stderr",
     "output_type": "stream",
     "text": [
      "100%|██████████| 5/5 [00:00<00:00, 18.10it/s]\n",
      "100%|██████████| 4/4 [00:00<00:00, 73.87it/s]\n"
     ]
    },
    {
     "name": "stdout",
     "output_type": "stream",
     "text": [
      "Train Loss: 0.0289, Validation Loss: 0.0473, Validation Accuracy: 0.9858\n",
      "Epoch 27:\n"
     ]
    },
    {
     "name": "stderr",
     "output_type": "stream",
     "text": [
      "100%|██████████| 5/5 [00:00<00:00, 17.78it/s]\n",
      "100%|██████████| 4/4 [00:00<00:00, 75.85it/s]\n"
     ]
    },
    {
     "name": "stdout",
     "output_type": "stream",
     "text": [
      "Train Loss: 0.0407, Validation Loss: 0.0461, Validation Accuracy: 0.9873\n",
      "Epoch 28:\n"
     ]
    },
    {
     "name": "stderr",
     "output_type": "stream",
     "text": [
      "100%|██████████| 5/5 [00:00<00:00,  5.66it/s]\n",
      "100%|██████████| 4/4 [00:00<00:00, 71.17it/s]\n"
     ]
    },
    {
     "name": "stdout",
     "output_type": "stream",
     "text": [
      "Train Loss: 0.0479, Validation Loss: 0.0473, Validation Accuracy: 0.9888\n",
      "Epoch 29:\n"
     ]
    },
    {
     "name": "stderr",
     "output_type": "stream",
     "text": [
      "100%|██████████| 5/5 [00:00<00:00, 16.53it/s]\n",
      "100%|██████████| 4/4 [00:00<00:00, 60.16it/s]\n"
     ]
    },
    {
     "name": "stdout",
     "output_type": "stream",
     "text": [
      "Train Loss: 0.0236, Validation Loss: 0.0437, Validation Accuracy: 0.9878\n",
      "Epoch 30:\n"
     ]
    },
    {
     "name": "stderr",
     "output_type": "stream",
     "text": [
      "100%|██████████| 5/5 [00:00<00:00, 16.59it/s]\n",
      "100%|██████████| 4/4 [00:00<00:00, 73.70it/s]\n"
     ]
    },
    {
     "name": "stdout",
     "output_type": "stream",
     "text": [
      "Train Loss: 0.0405, Validation Loss: 0.0431, Validation Accuracy: 0.9893\n",
      "Epoch 31:\n"
     ]
    },
    {
     "name": "stderr",
     "output_type": "stream",
     "text": [
      "100%|██████████| 5/5 [00:00<00:00, 17.54it/s]\n",
      "100%|██████████| 4/4 [00:00<00:00, 75.83it/s]\n"
     ]
    },
    {
     "name": "stdout",
     "output_type": "stream",
     "text": [
      "Train Loss: 0.0481, Validation Loss: 0.0414, Validation Accuracy: 0.9902\n",
      "Epoch 32:\n"
     ]
    },
    {
     "name": "stderr",
     "output_type": "stream",
     "text": [
      "100%|██████████| 5/5 [00:00<00:00, 16.16it/s]\n",
      "100%|██████████| 4/4 [00:00<00:00, 70.62it/s]\n"
     ]
    },
    {
     "name": "stdout",
     "output_type": "stream",
     "text": [
      "Train Loss: 0.0406, Validation Loss: 0.0468, Validation Accuracy: 0.9600\n",
      "Epoch 33:\n"
     ]
    },
    {
     "name": "stderr",
     "output_type": "stream",
     "text": [
      "100%|██████████| 5/5 [00:00<00:00, 17.32it/s]\n",
      "100%|██████████| 4/4 [00:00<00:00, 45.58it/s]\n"
     ]
    },
    {
     "name": "stdout",
     "output_type": "stream",
     "text": [
      "Train Loss: 0.0306, Validation Loss: 0.0459, Validation Accuracy: 0.9893\n",
      "Epoch 34:\n"
     ]
    },
    {
     "name": "stderr",
     "output_type": "stream",
     "text": [
      "100%|██████████| 5/5 [00:00<00:00, 16.79it/s]\n",
      "100%|██████████| 4/4 [00:00<00:00, 60.62it/s]\n"
     ]
    },
    {
     "name": "stdout",
     "output_type": "stream",
     "text": [
      "Train Loss: 0.0357, Validation Loss: 0.0409, Validation Accuracy: 0.9893\n",
      "Epoch 35:\n"
     ]
    },
    {
     "name": "stderr",
     "output_type": "stream",
     "text": [
      "100%|██████████| 5/5 [00:00<00:00, 16.94it/s]\n",
      "100%|██████████| 4/4 [00:00<00:00, 73.66it/s]\n"
     ]
    },
    {
     "name": "stdout",
     "output_type": "stream",
     "text": [
      "Train Loss: 0.0376, Validation Loss: 0.0411, Validation Accuracy: 0.9897\n",
      "Epoch 36:\n"
     ]
    },
    {
     "name": "stderr",
     "output_type": "stream",
     "text": [
      "100%|██████████| 5/5 [00:00<00:00, 17.86it/s]\n",
      "100%|██████████| 4/4 [00:00<00:00, 77.25it/s]\n"
     ]
    },
    {
     "name": "stdout",
     "output_type": "stream",
     "text": [
      "Train Loss: 0.0134, Validation Loss: 0.0442, Validation Accuracy: 0.9897\n",
      "Epoch 37:\n"
     ]
    },
    {
     "name": "stderr",
     "output_type": "stream",
     "text": [
      "100%|██████████| 5/5 [00:00<00:00, 17.98it/s]\n",
      "100%|██████████| 4/4 [00:00<00:00, 72.72it/s]\n"
     ]
    },
    {
     "name": "stdout",
     "output_type": "stream",
     "text": [
      "Train Loss: 0.0271, Validation Loss: 0.0389, Validation Accuracy: 0.9893\n",
      "Epoch 38:\n"
     ]
    },
    {
     "name": "stderr",
     "output_type": "stream",
     "text": [
      "100%|██████████| 5/5 [00:00<00:00, 17.45it/s]\n",
      "100%|██████████| 4/4 [00:00<00:00, 61.16it/s]\n"
     ]
    },
    {
     "name": "stdout",
     "output_type": "stream",
     "text": [
      "Train Loss: 0.0382, Validation Loss: 0.0402, Validation Accuracy: 0.9615\n",
      "Epoch 39:\n"
     ]
    },
    {
     "name": "stderr",
     "output_type": "stream",
     "text": [
      "100%|██████████| 5/5 [00:00<00:00, 16.45it/s]\n",
      "100%|██████████| 4/4 [00:00<00:00, 73.38it/s]\n"
     ]
    },
    {
     "name": "stdout",
     "output_type": "stream",
     "text": [
      "Train Loss: 0.0484, Validation Loss: 0.0367, Validation Accuracy: 0.9927\n",
      "Epoch 40:\n"
     ]
    },
    {
     "name": "stderr",
     "output_type": "stream",
     "text": [
      "100%|██████████| 5/5 [00:00<00:00, 17.81it/s]\n",
      "100%|██████████| 4/4 [00:00<00:00, 78.07it/s]\n"
     ]
    },
    {
     "name": "stdout",
     "output_type": "stream",
     "text": [
      "Train Loss: 0.0492, Validation Loss: 0.0360, Validation Accuracy: 0.9937\n",
      "Epoch 41:\n"
     ]
    },
    {
     "name": "stderr",
     "output_type": "stream",
     "text": [
      "100%|██████████| 5/5 [00:00<00:00, 17.32it/s]\n",
      "100%|██████████| 4/4 [00:00<00:00, 62.67it/s]\n"
     ]
    },
    {
     "name": "stdout",
     "output_type": "stream",
     "text": [
      "Train Loss: 0.0227, Validation Loss: 0.0368, Validation Accuracy: 0.9937\n",
      "Epoch 42:\n"
     ]
    },
    {
     "name": "stderr",
     "output_type": "stream",
     "text": [
      "100%|██████████| 5/5 [00:00<00:00, 17.40it/s]\n",
      "100%|██████████| 4/4 [00:00<00:00, 60.43it/s]\n"
     ]
    },
    {
     "name": "stdout",
     "output_type": "stream",
     "text": [
      "Train Loss: 0.0224, Validation Loss: 0.0572, Validation Accuracy: 0.9814\n",
      "Epoch 43:\n"
     ]
    },
    {
     "name": "stderr",
     "output_type": "stream",
     "text": [
      "100%|██████████| 5/5 [00:00<00:00, 17.09it/s]\n",
      "100%|██████████| 4/4 [00:00<00:00, 55.64it/s]\n"
     ]
    },
    {
     "name": "stdout",
     "output_type": "stream",
     "text": [
      "Train Loss: 0.0191, Validation Loss: 0.0756, Validation Accuracy: 0.9766\n",
      "Epoch 44:\n"
     ]
    },
    {
     "name": "stderr",
     "output_type": "stream",
     "text": [
      "100%|██████████| 5/5 [00:00<00:00, 15.64it/s]\n",
      "100%|██████████| 4/4 [00:00<00:00, 77.56it/s]\n"
     ]
    },
    {
     "name": "stdout",
     "output_type": "stream",
     "text": [
      "Train Loss: 0.0449, Validation Loss: 0.0379, Validation Accuracy: 0.9917\n",
      "Epoch 45:\n"
     ]
    },
    {
     "name": "stderr",
     "output_type": "stream",
     "text": [
      "100%|██████████| 5/5 [00:00<00:00, 16.83it/s]\n",
      "100%|██████████| 4/4 [00:00<00:00, 62.37it/s]\n"
     ]
    },
    {
     "name": "stdout",
     "output_type": "stream",
     "text": [
      "Train Loss: 0.0157, Validation Loss: 0.0580, Validation Accuracy: 0.9868\n",
      "Epoch 46:\n"
     ]
    },
    {
     "name": "stderr",
     "output_type": "stream",
     "text": [
      "100%|██████████| 5/5 [00:00<00:00, 16.23it/s]\n",
      "100%|██████████| 4/4 [00:00<00:00, 61.96it/s]\n"
     ]
    },
    {
     "name": "stdout",
     "output_type": "stream",
     "text": [
      "Train Loss: 0.0241, Validation Loss: 0.0529, Validation Accuracy: 0.9849\n",
      "Epoch 47:\n"
     ]
    },
    {
     "name": "stderr",
     "output_type": "stream",
     "text": [
      "100%|██████████| 5/5 [00:00<00:00, 16.71it/s]\n",
      "100%|██████████| 4/4 [00:00<00:00, 48.93it/s]\n"
     ]
    },
    {
     "name": "stdout",
     "output_type": "stream",
     "text": [
      "Train Loss: 0.0310, Validation Loss: 0.0428, Validation Accuracy: 0.9917\n",
      "Epoch 48:\n"
     ]
    },
    {
     "name": "stderr",
     "output_type": "stream",
     "text": [
      "100%|██████████| 5/5 [00:00<00:00, 15.87it/s]\n",
      "100%|██████████| 4/4 [00:00<00:00, 74.45it/s]\n"
     ]
    },
    {
     "name": "stdout",
     "output_type": "stream",
     "text": [
      "Train Loss: 0.0204, Validation Loss: 0.0367, Validation Accuracy: 0.9917\n",
      "Epoch 49:\n"
     ]
    },
    {
     "name": "stderr",
     "output_type": "stream",
     "text": [
      "100%|██████████| 5/5 [00:00<00:00, 16.74it/s]\n",
      "100%|██████████| 4/4 [00:00<00:00, 73.85it/s]\n"
     ]
    },
    {
     "name": "stdout",
     "output_type": "stream",
     "text": [
      "Train Loss: 0.0235, Validation Loss: 0.0396, Validation Accuracy: 0.9888\n",
      "Epoch 50:\n"
     ]
    },
    {
     "name": "stderr",
     "output_type": "stream",
     "text": [
      "100%|██████████| 5/5 [00:00<00:00, 16.86it/s]\n",
      "100%|██████████| 4/4 [00:00<00:00, 63.27it/s]"
     ]
    },
    {
     "name": "stdout",
     "output_type": "stream",
     "text": [
      "Train Loss: 0.0187, Validation Loss: 0.0409, Validation Accuracy: 0.9912\n",
      "Early stopping triggered.\n"
     ]
    },
    {
     "name": "stderr",
     "output_type": "stream",
     "text": [
      "\n"
     ]
    }
   ],
   "source": [
    "model_simple = xG_LSTM(hidden_dim=64, latent_dim=32).to(device)\n",
    "LOSS_FN = nn.BCEWithLogitsLoss()\n",
    "OPTIMIZER = optim.Adam(model_simple.parameters(), lr=0.001)\n",
    "EPOCHS = 500\n",
    "PATIENCE = 10\n",
    "PATIENCE_COUNTER = 0\n",
    "MIN_DELTA = 0.00001\n",
    "BEST_VAL_LOSS = float('inf')\n",
    "\n",
    "train_losses4 = []\n",
    "val_losses4 = []\n",
    "val_accuracies4 = []\n",
    "\n",
    "for epoch in range(1, EPOCHS+1):\n",
    "    print(f'Epoch {epoch}:')\n",
    "    train_loss = train_one_epoch(model_simple, train_dataloader, LOSS_FN, OPTIMIZER)\n",
    "    train_losses4.append(train_loss)\n",
    "\n",
    "    validation_loss, validation_acc = evaluate(model_simple, val_dataloader, LOSS_FN)\n",
    "    val_losses4.append(validation_loss)\n",
    "    val_accuracies4.append(validation_acc)\n",
    "\n",
    "    print(f\"Train Loss: {train_loss:.4f}, Validation Loss: {validation_loss:.4f}, Validation Accuracy: {validation_acc:.4f}\")\n",
    "\n",
    "    if validation_loss + MIN_DELTA < BEST_VAL_LOSS:\n",
    "        BEST_VAL_LOSS = validation_loss\n",
    "        PATIENCE_COUNTER = 0\n",
    "    else:\n",
    "        PATIENCE_COUNTER += 1\n",
    "        if PATIENCE_COUNTER >= PATIENCE:\n",
    "            print(\"Early stopping triggered.\")\n",
    "            break"
   ]
  },
  {
   "cell_type": "code",
   "execution_count": 17,
   "metadata": {},
   "outputs": [
    {
     "data": {
      "image/png": "[encoded data removed]",
      "text/plain": [
       "<Figure size 800x600 with 1 Axes>"
      ]
     },
     "metadata": {},
     "output_type": "display_data"
    }
   ],
   "source": [
    "epochs = [i for i in range(1,51)]\n",
    "val_accuracies4 = [a.cpu() for a in val_accuracies4]\n",
    "\n",
    "fig, ax = plt.subplots(1, 1, figsize=(8, 6))\n",
    "\n",
    "ax.plot(epochs, train_losses4, 'o--b', label='Training Loss')\n",
    "ax.plot(epochs, val_losses4, 'o--r', label='Validation Loss')\n",
    "ax.plot(epochs, val_accuracies4, 'o--g', label='Validation Accuracy')\n",
    "ax.set_title('Losses and Accuracy by Epoch')\n",
    "ax.set_xlabel('Epochs')\n",
    "ax.legend()\n",
    "\n",
    "\n",
    "plt.suptitle('Losses and Accuracies for Each Epoch of Training', fontsize=16)\n",
    "plt.tight_layout(rect=[0, 0, 1, 0.95])\n",
    "plt.show()"
   ]
  },
  {
   "cell_type": "code",
   "execution_count": 18,
   "metadata": {},
   "outputs": [
    {
     "name": "stderr",
     "output_type": "stream",
     "text": [
      "100%|██████████| 7/7 [00:00<00:00,  8.33it/s]"
     ]
    },
    {
     "name": "stdout",
     "output_type": "stream",
     "text": [
      "Test Loss: 0.0497226193630887 | Test Accuracy: 0.9860491156578064\n"
     ]
    },
    {
     "name": "stderr",
     "output_type": "stream",
     "text": [
      "\n"
     ]
    }
   ],
   "source": [
    "test_loss, test_accuracy = evaluate(model_simple, test_dataloader, LOSS_FN)\n",
    "print(f'Test Loss: {test_loss} | Test Accuracy: {test_accuracy}')"
   ]
  },
  {
   "cell_type": "code",
   "execution_count": 20,
   "metadata": {},
   "outputs": [
    {
     "data": {
      "image/png": "[encoded data removed]",
      "text/plain": [
       "<Figure size 500x400 with 2 Axes>"
      ]
     },
     "metadata": {},
     "output_type": "display_data"
    },
    {
     "data": {
      "text/plain": [
       "array([[787,  14],\n",
       "       [ 10, 734]])"
      ]
     },
     "execution_count": 20,
     "metadata": {},
     "output_type": "execute_result"
    }
   ],
   "source": [
    "evaluate_confusion_matrix(model_simple, test_dataloader)"
   ]
  },
  {
   "cell_type": "markdown",
   "metadata": {},
   "source": [
    "## FINAL CHOICE:\n",
    "\n",
    "Model 3!!!!\n",
    "- hidden_dim = 256\n",
    "- latent_dim = 256"
   ]
  },
  {
   "cell_type": "code",
   "execution_count": 21,
   "metadata": {},
   "outputs": [],
   "source": [
    "torch.save(model3.state_dict(), '/Users/marcomaluf/Desktop/Unfinished Projects/New RL/models/best_LSTM_state_dict.pth')"
   ]
  }
 ],
 "metadata": {
  "kernelspec": {
   "display_name": "base",
   "language": "python",
   "name": "python3"
  },
  "language_info": {
   "codemirror_mode": {
    "name": "ipython",
    "version": 3
   },
   "file_extension": ".py",
   "mimetype": "text/x-python",
   "name": "python",
   "nbconvert_exporter": "python",
   "pygments_lexer": "ipython3",
   "version": "3.12.4"
  }
 },
 "nbformat": 4,
 "nbformat_minor": 2
}
